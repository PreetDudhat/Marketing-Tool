{
 "cells": [
  {
   "cell_type": "code",
   "execution_count": 1,
   "metadata": {},
   "outputs": [],
   "source": [
    "from openai import OpenAI\n",
    "from dotenv import load_dotenv\n",
    "import os\n",
    "\n",
    "# Load environment variables\n",
    "load_dotenv()\n",
    "\n",
    "\n",
    "client = OpenAI()\n",
    "\n",
    "def generate_message(product_name, product_description, company_name, salesperson_name, store_name):\n",
    "\n",
    "    completion = client.chat.completions.create(\n",
    "    model=\"gpt-4o-mini\",\n",
    "    messages=[\n",
    "        {\"role\": \"system\", \"content\": f\"\"\"You are a friendly and persuasive salesperson representing {company_name}, a wholesaler with over 10,000 products. Your task is to craft a concise and engaging message to introduce a new product to a convenience store owner.\"\"\"},\n",
    "        {\"role\": \"user\", \"content\": f\"\"\"- A brief introduction of {company_name}.\n",
    "            - A compelling description of the product: {product_name} - {product_description}.\n",
    "            - An invitation for the store owner to express interest.\n",
    "            - A polite closing statement.\n",
    "            Keep the message short and to the point to ensure it captures the store owner's attention. Make sure not add any types of unfilled information like [Store Owner's Name]. At last ask if you are interested in it then send us the message and our sales person will contact you shortly. Make sure not to write a email.\n",
    "\n",
    "            Store Name: {store_name}\"\"\"},\n",
    "    ],\n",
    "    )\n",
    "\n",
    "\n",
    "    message = completion.choices[0].message\n",
    "    return message"
   ]
  },
  {
   "cell_type": "code",
   "execution_count": 2,
   "metadata": {},
   "outputs": [],
   "source": [
    "x = generate_message(\"Flair Ultra Disposable Devices\", \"Drag activated system, Battery: 1000 mah, Liquid capacity: 5.5 ml, Puffs: 2500 puffs (approx.), Length: 121 mm, Diameter: 19mm, Coil Type: Mesh Coil\", \"Center Point\", \"Akshay\", \"Country Farm\")"
   ]
  },
  {
   "cell_type": "code",
   "execution_count": 3,
   "metadata": {},
   "outputs": [
    {
     "name": "stdout",
     "output_type": "stream",
     "text": [
      "ChatCompletionMessage(content='Hello from Center Point!\\n\\nWe are excited to introduce our latest product that can elevate your offerings – the Flair Ultra Disposable Devices. These sleek devices feature a drag-activated system and come equipped with a robust 1000 mAh battery, providing approximately 2500 puffs. With a generous liquid capacity of 5.5 ml, compact length of 121 mm, and a diameter of 19 mm, they are not only user-friendly but also stylish. The advanced mesh coil ensures a smooth and satisfying experience for your customers.\\n\\nIf you’re interested in stocking these innovative devices at Country Farm, simply let us know, and our sales team will reach out to you shortly.\\n\\nThank you for considering this fantastic addition to your store!', refusal=None, role='assistant', audio=None, function_call=None, tool_calls=None)\n"
     ]
    }
   ],
   "source": [
    "print(x)"
   ]
  },
  {
   "cell_type": "code",
   "execution_count": null,
   "metadata": {},
   "outputs": [],
   "source": []
  }
 ],
 "metadata": {
  "kernelspec": {
   "display_name": ".venv",
   "language": "python",
   "name": "python3"
  },
  "language_info": {
   "codemirror_mode": {
    "name": "ipython",
    "version": 3
   },
   "file_extension": ".py",
   "mimetype": "text/x-python",
   "name": "python",
   "nbconvert_exporter": "python",
   "pygments_lexer": "ipython3",
   "version": "3.10.0"
  },
  "orig_nbformat": 4
 },
 "nbformat": 4,
 "nbformat_minor": 2
}
